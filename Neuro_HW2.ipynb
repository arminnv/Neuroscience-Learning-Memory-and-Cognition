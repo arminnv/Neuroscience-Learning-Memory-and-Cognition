{
 "cells": [
  {
   "cell_type": "markdown",
   "metadata": {},
   "source": [
    "<br>\n",
    "<font>\n",
    "<div dir=ltr align=center>\n",
    "<font color=0F5298 size=7>\n",
    "    Neuroscience of Learning, Memory, Cognition <br>\n",
    "<font color=2565AE size=5>\n",
    "    Electrical Engineering Department <br>\n",
    "    Spring 2024<br>\n",
    "<font color=3C99D size=5>\n",
    "    Practical Assignment 2 <br>\n",
    "<font color=696880 size=4>"
   ]
  },
  {
   "cell_type": "markdown",
   "metadata": {},
   "source": [
    "*TA: Matin Arman Mehr* <br>\n",
    "*Email: matinarmanmehr@proton.me* <br>\n",
    "\n",
    "***If you have any issues or questions, please feel free to email me or send your messages in the Telegram group.***"
   ]
  },
  {
   "cell_type": "markdown",
   "metadata": {},
   "source": [
    "# Student Information\n",
    "Fill the desired information here"
   ]
  },
  {
   "cell_type": "code",
   "execution_count": 2,
   "metadata": {},
   "outputs": [
    {
     "name": "stdout",
     "output_type": "stream",
     "text": [
      "Student_Name: FirstName LastName\n",
      "Student_ID: 123456789\n"
     ]
    }
   ],
   "source": [
    "Student_Name = \"FirstName LastName\"\n",
    "Student_ID = \"123456789\"\n",
    "\n",
    "print(\"Student_Name:\",Student_Name)\n",
    "print(\"Student_ID:\",Student_ID)"
   ]
  },
  {
   "cell_type": "markdown",
   "metadata": {},
   "source": [
    "# Introduction\n",
    "Local Field Potential (LFP) signals possess the capability to provide us with highly valuable and detailed insights into the functioning of the brain. In this practice, we will undertake the analysis of the LFP signal derived from the brain of an anesthetized rat during an olfactory task. <br>\n",
    "The LFP signal that is given to you comprises three distinct channels: <br>\n",
    "\n",
    "&emsp;  1. Hippocampus (HPC) <br>\n",
    "&emsp;  2. Olfactory Tubercle (OT) <br>\n",
    "&emsp;  3. Medial Prefrontal Cortex (mPFC) <br>\n",
    "\n",
    "Throughout the task, the anesthetized rat was exposed to two different odorants: <br>\n",
    "\n",
    "&emsp;  1. Banana (tag = \"20\") <br>\n",
    "&emsp;  2. Lime (tag = \"40\") <br>\n",
    "\n",
    "Each odorant was presented with an equal probability of 50%. This implies that 50% of the time, the rat was exposed to the banana odor, and the remaining 50% to the lime odor. Upon cessation of odorant release, the resting state (tag = \"10\") commenced, devoid of any odor stimuli. <br>\n",
    "\n",
    "**Note that the 4th channel is digitalByte which contains the events tags [10,20,40] in time.**"
   ]
  },
  {
   "cell_type": "markdown",
   "metadata": {},
   "source": [
    "`Theorical Question 1:` Investigate the functions of the LFP channels (HPC, OT, mPFC) in rats brain and write a paragraph for each of them. (**Note: Academic references must be used**). *`5 Points`* <br>"
   ]
  },
  {
   "cell_type": "markdown",
   "metadata": {},
   "source": [
    "# Import Libraries"
   ]
  },
  {
   "cell_type": "code",
   "execution_count": null,
   "metadata": {},
   "outputs": [],
   "source": [
    "%pip install pymatreader\n",
    "%matplotlib inline\n",
    "\n",
    "import numpy as np\n",
    "import matplotlib.pyplot as plt\n",
    "import pymatreader\n",
    "import scipy as sp\n",
    "import pandas as pd\n",
    "import math\n",
    "\n",
    "#################################\n",
    "# Import your necessary libraries\n",
    "#################################"
   ]
  },
  {
   "cell_type": "markdown",
   "metadata": {},
   "source": [
    "# Reading the Data\n",
    "Import the `data.mat` file that is given to you by using pymatreader library. Add all of the dataset information into the *`data`* dict file. *`5 Points`* "
   ]
  },
  {
   "cell_type": "code",
   "execution_count": 5,
   "metadata": {},
   "outputs": [],
   "source": [
    "data = {}\n",
    "data['srate'] = 2000                            # Sampling rate\n",
    "data['channel_names'] = ['HPC','OT','mPFC']     # The name of each channel\n",
    "data['events'] = ['rest','banana','lime']       # Events names\n",
    "data['tags'] = [10,20,40]                       # Tag of each event\n",
    "\n",
    "###########################################################\n",
    "# TO DO: Import the data and add it to the main *data dict \n",
    "###########################################################\n",
    "\n"
   ]
  },
  {
   "cell_type": "markdown",
   "metadata": {},
   "source": [
    "# Plot the raw LFP\n",
    "Let's plot the first `2.5s` of each channels' signal! *`3 Points`*"
   ]
  },
  {
   "cell_type": "code",
   "execution_count": 4,
   "metadata": {},
   "outputs": [],
   "source": [
    "\n",
    "#################################################\n",
    "# TO DO: plot the raw LFP signal for each channel.\n",
    "#################################################\n"
   ]
  },
  {
   "cell_type": "markdown",
   "metadata": {},
   "source": [
    "# Power Spectrum Density (PSD)\n",
    "Calculate and plot the power spectrum density for the frequency range up to 40Hz in each channel of the raw LFP signals. You can employ a simple FFT for this task. *`5 Points`*"
   ]
  },
  {
   "cell_type": "code",
   "execution_count": 7,
   "metadata": {},
   "outputs": [],
   "source": [
    "def calc_PSD(data):\n",
    "    \n",
    "    ##############################\n",
    "    # TO DO: Complete the function\n",
    "    ##############################\n",
    "    pass"
   ]
  },
  {
   "cell_type": "code",
   "execution_count": null,
   "metadata": {},
   "outputs": [],
   "source": [
    "\n",
    "####################################################################\n",
    "# To Do: Use your function to calculate the PSD and plot the results\n",
    "####################################################################\n"
   ]
  },
  {
   "cell_type": "markdown",
   "metadata": {},
   "source": [
    "Compute the average power of the theta band (4Hz-8Hz) for each channel and create a bar plot to display the results. *`2 Points`* <br>"
   ]
  },
  {
   "cell_type": "code",
   "execution_count": null,
   "metadata": {},
   "outputs": [],
   "source": [
    "\n",
    "##################################################\n",
    "# TO DO: Plot the theta band power of each channel\n",
    "##################################################\n"
   ]
  },
  {
   "cell_type": "markdown",
   "metadata": {},
   "source": [
    "The plot should be like this: <br>\n",
    "\n",
    "![](./Figures/01.png)"
   ]
  },
  {
   "cell_type": "markdown",
   "metadata": {},
   "source": [
    "`Theorical Question 2:` Why is the theta power is higher in the hippocampus compared to other regions? Do a little research :D *`3 Points`*"
   ]
  },
  {
   "cell_type": "markdown",
   "metadata": {},
   "source": [
    "# Preprocessing\n",
    "First thing first, filter each channel between 0.5Hz-128Hz. *`3 Points`* <br>\n",
    "**Note: Use zero-phase filter to maintain the time features of the signals after filtering.**"
   ]
  },
  {
   "cell_type": "code",
   "execution_count": null,
   "metadata": {},
   "outputs": [],
   "source": [
    "def BPF_filter(data,frq_low,frq_high,filt_order):\n",
    "    \n",
    "    ##############################\n",
    "    # To Do: complete the function\n",
    "    ##############################\n",
    "    pass"
   ]
  },
  {
   "cell_type": "markdown",
   "metadata": {},
   "source": [
    "Next, epoch the data according to each event (banana and lime) as you've done at the previous practice. Each trial must contain `1.5` seconds before and `3` seconds after the onset of each stimulus. Consider computing zscore of time series in each trial. *`3 Points`*"
   ]
  },
  {
   "cell_type": "code",
   "execution_count": null,
   "metadata": {},
   "outputs": [],
   "source": [
    "def epoch_data(data, time_interval):\n",
    "\n",
    "    ##############################\n",
    "    # To Do: complete the function\n",
    "    ##############################\n",
    "\n",
    "    # data_epoched['data_Banana'] = ...\n",
    "    # data_epoched['data_Lime'] = ...\n",
    "\n",
    "    # return data_epoched\n",
    "    \n",
    "    pass"
   ]
  },
  {
   "cell_type": "markdown",
   "metadata": {},
   "source": [
    "# Event-Related Potential (ERP)\n",
    "Compute the Event-Related Potential (ERP) for each channel and event in all channels as you've done at the previous practice. Plot them for each event. *`5 Points`* <br>\n",
    " **Note: Consider using baseline rejection: ERP_signal - mean(ERP_signal(before stimulus))**"
   ]
  },
  {
   "cell_type": "code",
   "execution_count": null,
   "metadata": {},
   "outputs": [],
   "source": [
    "def calc_ERP(data):\n",
    "\n",
    "    ##############################\n",
    "    # To Do: complete the function\n",
    "    ##############################\n",
    "    pass"
   ]
  },
  {
   "cell_type": "code",
   "execution_count": null,
   "metadata": {},
   "outputs": [],
   "source": [
    "\n",
    "####################################################################\n",
    "# To Do: Use your function to calculate the ERP and plot the results\n",
    "####################################################################\n"
   ]
  },
  {
   "cell_type": "markdown",
   "metadata": {},
   "source": [
    "You should generate a plot like this for each odorant: <br>\n",
    "\n",
    "![](./Figures/03-ERP-ban.png)"
   ]
  },
  {
   "cell_type": "markdown",
   "metadata": {},
   "source": [
    "# Phase-Lock Value (PLV)"
   ]
  },
  {
   "cell_type": "markdown",
   "metadata": {},
   "source": [
    "In the previous practice, you studied the phase-lock value as a method for evaluation of functional connectivity between different parts of brain. Now, we aim to implement it for the olfactory task and investigate the effect of odorants on the connections between channels. You can use [this paper](https://doi.org/10.1016%2Fj.neuroimage.2013.02.008) for more help. <br>\n",
    "\n",
    "Compute the phase-lock value between different channels for `1.5sec` before and `1.5sec` after the onset of the stimulus for each trials across a frequency range of `20Hz-60Hz` for both odorants. Next, determine the mean and standard error of the calculated phase-lock values across trials. At the end, create a plot showing the bounded lines for phase-lock values at various frequencies. Compare the results before and after stimulus. *`20 Points`*"
   ]
  },
  {
   "cell_type": "code",
   "execution_count": null,
   "metadata": {},
   "outputs": [],
   "source": [
    "def calc_PLV(data, frq_range, time_range, filt_order):\n",
    "\n",
    "    ##############################\n",
    "    # To Do: complete the function\n",
    "    ##############################\n",
    "    pass"
   ]
  },
  {
   "cell_type": "code",
   "execution_count": null,
   "metadata": {},
   "outputs": [],
   "source": [
    "\n",
    "####################################################################\n",
    "# To Do: Use your function to calculate the PLV and plot the results\n",
    "####################################################################\n"
   ]
  },
  {
   "cell_type": "markdown",
   "metadata": {},
   "source": [
    "You should generate plots like this between all channels for both odorants:<br>\n",
    "\n",
    "![](./Figures/02-PLV.png)"
   ]
  },
  {
   "cell_type": "markdown",
   "metadata": {},
   "source": [
    "# Phase-Amplitude Coupling (PAC)"
   ]
  },
  {
   "cell_type": "markdown",
   "metadata": {},
   "source": [
    "One of the recent methods used for studying functional connectivity is Phase-Amplitude Coupling (PAC). This method is widely used to explain the way of communication among various neural populations in the brain. For more detailed information on PAC and how it's calculated, you can refer to [this paper](https://doi.org/10.1038/s41598-019-48870-2). Moreover, [this paper](https://doi.org/10.1038/s41598-019-43272-w) has also explained how different neural networks communicate through their theta and gamma oscillations to transfer information.\n",
    "\n",
    "`Theorical Question 3:` Read both papers and explain the process of calculating PAC and how we infer PAC as a metric for communication between different neural oscillations. `5 Points`\n",
    "\n",
    "**Note: You don't have to read both papers in detail; just simply collect the information you NEED :D**"
   ]
  },
  {
   "cell_type": "markdown",
   "metadata": {},
   "source": [
    "Now, we aim to analyze the data and compute the Phase-Amplitude Coupling (PAC) for each channel. First thing first, as explained in [the paper](https://doi.org/10.1038/s41598-019-48870-2) you've read, we need to find the Bilinear time–frequency distribution of the signal using the RID-Rihaczek method. The code for this is provided below:"
   ]
  },
  {
   "cell_type": "code",
   "execution_count": null,
   "metadata": {},
   "outputs": [],
   "source": [
    "## DON'T CHANGE THE CODES OF THIS BLOCK\n",
    "\n",
    "def _rhu(n):\n",
    "    '''\n",
    "    Return integer rounded of the input. The half will round up.\n",
    "    1.3 -> 1\n",
    "    2.5 -> 3\n",
    "    -0.5 -> 0\n",
    "    -0.3 -> -1\n",
    "    '''\n",
    "    return int(math.floor(n + 0.5))\n",
    "\n",
    "\n",
    "def _datawrap(x: np.ndarray, n: int) -> np.ndarray:\n",
    "    '''\n",
    "    The calculation of signal spectrum, such as periodogram, uses FFT internally, \n",
    "    where the length of FFT is denoted as NFFT. In theory, when using FFT, \n",
    "    the signal in both time domain and frequency domain are discrete and periodic, \n",
    "    where the period is given by NFFT. Hence, if you specify an NFFT that is less \n",
    "    than the signal length, it actually introduces the aliasing in the time domain \n",
    "    and make the signal (even if its length is N>NFFT) periodic with NFFT. \n",
    "    When you take FFT of this sequence, you are working with this aliased sequence. \n",
    "    This is what datawrap do for you. \n",
    "\n",
    "    For example: Sequence 1 2 3 4 5, period 5, it returns\n",
    "        1 2 3 4 5\n",
    "                  1 2 3 4 5\n",
    "                            1 2 3 4 5\n",
    "        --------------------------------\n",
    "              ... 1 2 3 4 5 ...\n",
    "\n",
    "    i.e., original series. assume a period of 3, then it looks like\n",
    "\n",
    "        1 2 3 4 5\n",
    "              1 2 3 4 5\n",
    "                    1 2 3 4 5\n",
    "        ------------------------\n",
    "          ... 5 7 3 ...\n",
    "\n",
    "    A sequence that is wrapped around and has only a length of 3.\n",
    "\n",
    "    >>> _datawrap(range(1, 6),3)\n",
    "    array([5, 7, 3])\n",
    "\n",
    "    '''\n",
    "    return np.array([sum(x[i::n]) for i in range(n)])\n",
    "\n",
    "\n",
    "def _chwi_krn(D: np.ndarray, L: np.ndarray, A: int = None):\n",
    "    '''\n",
    "\n",
    "    CHWI_KRN Choi-Williams kernel function.\n",
    "\n",
    "    https://en.wikipedia.org/wiki/Bilinear_time%E2%80%93frequency_distribution#Choi%E2%80%93Williams_distribution_function\n",
    "\n",
    "    K = _chwi_krn(D, L, A) returns the values K of the Choi-Williams kernel function\n",
    "    evaluated at the doppler-values in matrix D and the lag-values in matrix L.\n",
    "    Matrices D and L must have the same size. The values in D should be in the range\n",
    "    between -1 and +1 (with +1 being the Nyquist frequency). The parameter A is\n",
    "    optional and controls the \"diagonal bandwidth\" of the kernel. Matrix K is of the\n",
    "    same size as the matrices D and L. Parameter A defaults to 10 if omitted.\n",
    "\n",
    "    Copyright (c) 1998 by Robert M. Nickel\n",
    "    Revision: 1.1.1.1\n",
    "    Date: 2001/03/05 09:09:36\n",
    "\n",
    "    Written by: Mahdi Kiani, March 2021\n",
    "\n",
    "    '''\n",
    "\n",
    "    if A is None:\n",
    "        A = 10\n",
    "    K = np.exp((-1/(A*A)) * (D*D*L*L))\n",
    "\n",
    "    return K\n",
    "\n",
    "def rid_rihaczek(x: np.ndarray, fbins: int):\n",
    "    '''\n",
    "    Munia, T.T.K., Aviyente, S. Time-Frequency Based Phase-Amplitude\n",
    "    Coupling Measure For Neuronal Oscillations. Sci Rep 9, 12441 (2019).\n",
    "    https://doi.org/10.1038/s41598-019-48870-2\n",
    "\n",
    "    This function computes reduced interference Rihaczek distribution\n",
    "\n",
    "    Parameter:\n",
    "        x: signal\n",
    "        fbins=required frequency bins\n",
    "\n",
    "    Returns:\n",
    "        tfd = Generated reduced interference Rihaczek distribution\n",
    "\n",
    "    Written by: Mahdi Kiani, March 2021\n",
    "    '''\n",
    "\n",
    "    tbins = x.shape[0]\n",
    "    amb = np.zeros((tbins, tbins))\n",
    "    for tau in range(tbins):\n",
    "        amb[tau, :] = (np.conj(x) * np.concatenate((x[tau:], x[:tau])))\n",
    "\n",
    "    ambTemp = np.concatenate(\n",
    "        (amb[:, _rhu(tbins/2):], amb[:, :_rhu(tbins/2)]), axis=1)\n",
    "    amb1 = np.concatenate(\n",
    "        (ambTemp[_rhu(tbins/2):, :], ambTemp[:_rhu(tbins/2), :]), axis=0)\n",
    "\n",
    "    D = np.outer(np.linspace(-1, 1, tbins), np.linspace(-1, 1, tbins), )\n",
    "    K = _chwi_krn(D, D, 0.01)\n",
    "    df = K[:amb1.shape[0], :amb1.shape[1]]\n",
    "    ambf = amb1 * df\n",
    "\n",
    "    A = np.zeros((fbins, tbins))\n",
    "    tbins = tbins - 1\n",
    "\n",
    "    if tbins != fbins:\n",
    "        for tt in range(tbins):\n",
    "            A[:, tt] = _datawrap(ambf[:, tt], fbins)\n",
    "    else:\n",
    "        A = ambf\n",
    "\n",
    "    tfd = np.fft.fft(A, axis=0)\n",
    "\n",
    "    return tfd"
   ]
  },
  {
   "cell_type": "markdown",
   "metadata": {},
   "source": [
    "Next, compute the local Phase-Amplitude Coupling (l-PAC) within each channel and the inter-regional PAC (ir-PAC) across different channels for **ERP signals** Calculate these values for each phase and amplitude frequency within a time interval of `1sec` before and `1sec` after the onset of stimulation for both odorants. The phase frequency should be in the theta band `4Hz-8Hz`, and the amplitude frequency should be in the low gamma band `20Hz-60Hz`. Afterwards, plot the comodulograms ([f_phase, f_amplitude, PAC] plot) and compare the results before and after the stimulus. *`20 Points`* <br>\n",
    "\n",
    "**Note: Ensure that the scale of PACs in plots is equalized before and after the stimulus to make them comparable.** "
   ]
  },
  {
   "cell_type": "code",
   "execution_count": null,
   "metadata": {},
   "outputs": [],
   "source": [
    "def calc_MVL(tfd1, tfd2, fph, famp):\n",
    "\n",
    "    ##############################\n",
    "    # To Do: complete the functions\n",
    "    ##############################\n",
    "    \n",
    "    pass\n",
    "\n",
    "def calc_PAC(data, fph_range, famp_range, time_range):\n",
    "\n",
    "    ##############################\n",
    "    # To Do: complete the function\n",
    "    ##############################\n",
    "\n",
    "    pass"
   ]
  },
  {
   "cell_type": "code",
   "execution_count": null,
   "metadata": {},
   "outputs": [],
   "source": [
    "\n",
    "####################################################################\n",
    "# To Do: Use your function to calculate the PAC and plot the results\n",
    "####################################################################\n"
   ]
  },
  {
   "cell_type": "markdown",
   "metadata": {},
   "source": [
    "You should generate plots like this between all channels for both odorants:<br>\n",
    "\n",
    "![](./Figures/04-PAC-comodulo.png) <br>\n",
    "*figure description: comodulogram of hippocampus theta phase and hippocampus low gamma amplitude*"
   ]
  },
  {
   "cell_type": "markdown",
   "metadata": {},
   "source": [
    "# Time-Varying Phase-Amplitude Coupling (tv-PAC)"
   ]
  },
  {
   "cell_type": "markdown",
   "metadata": {},
   "source": [
    "In this section, we aim to analyze the dynamics of Phase-Amplitude Coupling (PAC) over time. This can be achieved using a sliding window technique. Set the window size to `0.25sec` and slide it with `75%` overlap across the ERP signals for each channel in both odorants. Within each window, calculate the PAC and then average it over the phase frequency range of theta band `4Hz-8Hz`. Finally, generate time-frequency plots for PAC between each pair of channels (local PAC and inter-regional PAC). You can use the `calc_PAC()` function you've written in the previous section. Compare the results and find the effect of odorants in the neural connectivities. *`20 Points`*"
   ]
  },
  {
   "cell_type": "code",
   "execution_count": null,
   "metadata": {},
   "outputs": [],
   "source": [
    "def calc_tvPAC(data, fph_range, famp_range, t_win, overlap):\n",
    "\n",
    "    ##############################\n",
    "    # To Do: complete the function\n",
    "    ##############################\n",
    "\n",
    "    pass"
   ]
  },
  {
   "cell_type": "markdown",
   "metadata": {},
   "source": [
    "You should generate plots like this between all channels for both odorants:<br>\n",
    "\n",
    "![](./Figures/05-PAC-vtime.png)<br>\n",
    "*figure description: tv-PAC of hippocampus theta phase and hippocampus low gamma amplitude*"
   ]
  },
  {
   "cell_type": "markdown",
   "metadata": {},
   "source": [
    "# Bonus: Modulation Index (MI) `+10 Points`"
   ]
  },
  {
   "cell_type": "markdown",
   "metadata": {},
   "source": [
    "The Mean Vector Length (MVL) is not the only method for calculating Phase-Amplitude Coupling (PAC); another alternative is the Modulation Index (MI). You can find a detailed explanation of this method in [this paper](https://doi.org/10.1073/pnas.0810524105).\n",
    "\n",
    "Simply implement the MI method and compute the time-varying PAC (tv-PAC) for each channel (l-PAC) and between channels (ir-PAC) using **ERP signals**. Then, compare the results with the MVL method used in the previous section. *`7 Points`*\n",
    "\n",
    "`Theoretical Question:` In [this paper](https://doi.org/10.3389/fnins.2019.00573), different methods for calculating PAC and PLV and Generalized-Linear-Modeling-Cross-Frequency-Coupling (GLM) are evaluated. After reading the paper, determine when we should use MVL or MI for calculating PAC. *`3 Points`*"
   ]
  },
  {
   "cell_type": "code",
   "execution_count": null,
   "metadata": {},
   "outputs": [],
   "source": [
    "def calc_MI(tfd1, tfd2, fph, famp):\n",
    "\n",
    "    ##############################\n",
    "    # To Do: complete the functions\n",
    "    ##############################\n",
    "    \n",
    "    pass"
   ]
  },
  {
   "cell_type": "code",
   "execution_count": null,
   "metadata": {},
   "outputs": [],
   "source": [
    "\n",
    "####################################################################\n",
    "# To Do: Use your function to calculate the PAC and plot the results\n",
    "####################################################################\n"
   ]
  }
 ],
 "metadata": {
  "kernelspec": {
   "display_name": "Python 3",
   "language": "python",
   "name": "python3"
  },
  "language_info": {
   "codemirror_mode": {
    "name": "ipython",
    "version": 3
   },
   "file_extension": ".py",
   "mimetype": "text/x-python",
   "name": "python",
   "nbconvert_exporter": "python",
   "pygments_lexer": "ipython3",
   "version": "3.11.6"
  }
 },
 "nbformat": 4,
 "nbformat_minor": 2
}
