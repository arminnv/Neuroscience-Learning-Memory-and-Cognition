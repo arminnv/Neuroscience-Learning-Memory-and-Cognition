{
  "cells": [
    {
      "cell_type": "markdown",
      "id": "25a2f6b7-3673-4309-858f-9ad378991122",
      "metadata": {
        "id": "25a2f6b7-3673-4309-858f-9ad378991122"
      },
      "source": [
        "<center><h1>Neuroscience Final Project</h1></center>\n",
        "<center><h2>Deep Q Networks</h2></center>"
      ]
    },
    {
      "cell_type": "markdown",
      "id": "50719fc4-e0dc-4783-8720-bf973172d7a3",
      "metadata": {
        "id": "50719fc4-e0dc-4783-8720-bf973172d7a3"
      },
      "source": [
        "In this notebook, we are going to get familiar with Deep Q Networks. You have been introduced to Reinforcement Learning in the course. Deep Q Networks are an entension of Reinforcement Learning were we incorporate Deep Neural Networks in our policy enhacement procedure.\n",
        "\n",
        "We also implement an Agent in an online learning environment, meaning that the agent has no initial memory of the rewards in each state. We go through the environment based on our policy and store the observed rewards and corresponding state in the memory of the agent\n",
        "\n",
        "Finally, we utilize the Agent in a practical Maze Solving problem. The agent is prompted to iterate the maze from a defined starting point to an ending point, maximing the profit from the total route."
      ]
    },
    {
      "cell_type": "markdown",
      "id": "19d0648a-c633-4463-92a8-4406ccd7b23a",
      "metadata": {
        "id": "19d0648a-c633-4463-92a8-4406ccd7b23a"
      },
      "source": [
        "**Name** : Armin Navardi\n",
        "\n",
        "**Student ID**: 99105129"
      ]
    },
    {
      "cell_type": "markdown",
      "id": "aa2ab6b3-620c-41a4-a279-c9b36654c3c5",
      "metadata": {
        "id": "aa2ab6b3-620c-41a4-a279-c9b36654c3c5"
      },
      "source": [
        "## Importing the necessary packages"
      ]
    },
    {
      "cell_type": "code",
      "execution_count": 6,
      "id": "a128a4f2-b79c-4a19-8cef-881940edd941",
      "metadata": {
        "id": "a128a4f2-b79c-4a19-8cef-881940edd941",
        "colab": {
          "base_uri": "https://localhost:8080/"
        },
        "outputId": "cbe18839-d347-49fc-f53d-423cec9fa657"
      },
      "outputs": [
        {
          "output_type": "stream",
          "name": "stdout",
          "text": [
            "Drive already mounted at /content/drive; to attempt to forcibly remount, call drive.mount(\"/content/drive\", force_remount=True).\n"
          ]
        }
      ],
      "source": [
        "import torch as T\n",
        "import torch.nn as nn\n",
        "import torch.nn.functional as F\n",
        "import torch.optim as optim\n",
        "import numpy as np\n",
        "\n",
        "from google.colab import drive\n",
        "drive.mount('/content/drive')"
      ]
    },
    {
      "cell_type": "markdown",
      "id": "a6978916-8630-46b6-8825-3ea596594e9e",
      "metadata": {
        "id": "a6978916-8630-46b6-8825-3ea596594e9e"
      },
      "source": [
        "## Creating the Deep Q Network"
      ]
    },
    {
      "cell_type": "code",
      "execution_count": 7,
      "id": "b1a399fd-abb4-40bc-8a30-eadc2ac090a9",
      "metadata": {
        "id": "b1a399fd-abb4-40bc-8a30-eadc2ac090a9"
      },
      "outputs": [],
      "source": [
        "class DeepQNetwork(nn.Module):\n",
        "    def __init__(self, lr, input_dims, fc1_dims, fc2_dims,\n",
        "                 n_actions):\n",
        "        super(DeepQNetwork, self).__init__()\n",
        "        self.input_dims = input_dims\n",
        "        self.fc1_dims = fc1_dims\n",
        "        self.fc2_dims = fc2_dims\n",
        "        self.n_actions = n_actions\n",
        "\n",
        "        self.fc1 = nn.Linear(input_dims[0], fc1_dims)\n",
        "        self.fc2 = nn.Linear(fc1_dims, fc2_dims)\n",
        "        self.fc3 = nn.Linear(fc2_dims, n_actions)\n",
        "\n",
        "        self.optimizer = optim.Adam(self.parameters(), lr=lr)\n",
        "        self.loss = nn.MSELoss()\n",
        "        self.device = T.device('cuda:0' if T.cuda.is_available() else 'cpu')\n",
        "        self.to(self.device)\n",
        "\n",
        "    def forward(self, state):\n",
        "        # Calculate the forward pass. Use Proper non-linear activation function between the linear layers\n",
        "        x = T.relu(self.fc1(state))\n",
        "        x = T.relu(self.fc2(x))\n",
        "        actions = self.fc3(x)\n",
        "\n",
        "        return actions"
      ]
    },
    {
      "cell_type": "markdown",
      "id": "43badcac-20b4-454e-a011-8248410a60e9",
      "metadata": {
        "id": "43badcac-20b4-454e-a011-8248410a60e9"
      },
      "source": [
        "## Creating the Agent"
      ]
    },
    {
      "cell_type": "code",
      "execution_count": 8,
      "id": "8d7244ea-6e78-4715-9520-e6e4e20ab376",
      "metadata": {
        "id": "8d7244ea-6e78-4715-9520-e6e4e20ab376"
      },
      "outputs": [],
      "source": [
        "class Agent:\n",
        "    def __init__(self, gamma, epsilon, lr, input_dims, batch_size, n_actions,\n",
        "                 max_mem_size=100000, eps_end=0.05, eps_dec=5e-4):\n",
        "        self.gamma = gamma\n",
        "        self.epsilon = epsilon\n",
        "        self.eps_min = eps_end\n",
        "        self.eps_dec = eps_dec\n",
        "        self.lr = lr\n",
        "        self.action_space = [i for i in range(n_actions)]\n",
        "        self.mem_size = max_mem_size\n",
        "        self.batch_size = batch_size\n",
        "        self.mem_cntr = 0\n",
        "        self.iter_cntr = 0\n",
        "\n",
        "        # Create an instance of te Deep Q network with 256 neurons in each of its hidden layers\n",
        "        self.Q_eval = DeepQNetwork(lr, n_actions=n_actions, input_dims=input_dims, fc1_dims=256, fc2_dims=256)\n",
        "\n",
        "        self.state_memory = np.zeros((self.mem_size, *input_dims), dtype=np.float32)\n",
        "        self.new_state_memory = np.zeros((self.mem_size, *input_dims), dtype=np.float32)\n",
        "        self.action_memory = np.zeros(self.mem_size, dtype=np.int32)\n",
        "        self.reward_memory = np.zeros(self.mem_size, dtype=np.float32)\n",
        "        self.terminal_memory = np.zeros(self.mem_size, dtype=np.bool_)\n",
        "\n",
        "\n",
        "    # Store one episode alongside its reward, state, next_state\n",
        "    def store_transition(self, state, action, reward, state_, terminal):\n",
        "        index = self.mem_cntr % self.mem_size\n",
        "        self.state_memory[index] = state\n",
        "        self.new_state_memory[index] = state_\n",
        "        self.reward_memory[index] = reward\n",
        "        self.action_memory[index] = action\n",
        "        self.terminal_memory[index] = terminal\n",
        "\n",
        "        self.mem_cntr += 1\n",
        "\n",
        "\n",
        "    # Choose the best action with probability (1 - epsilon), otherwise choose a random direction from the action space\n",
        "    # The best action is defined as the maximum output of the Deep Q Network\n",
        "    def choose_action(self, observation):\n",
        "        if np.random.random() > self.epsilon:\n",
        "            state = T.tensor([observation], dtype=T.float).to(self.Q_eval.device)\n",
        "            actions = self.Q_eval.forward(state)\n",
        "            action = T.argmax(actions).item()\n",
        "        else:\n",
        "            action = np.random.choice(self.action_space)\n",
        "        return action\n",
        "\n",
        "    # Train the Deep Q Network based on the new observations\n",
        "    # The network must learn the target Q values through regression\n",
        "    def learn(self):\n",
        "        # Simply ignore the training phase if there is not enough memory stored yet\n",
        "        if self.mem_cntr < self.batch_size:\n",
        "            return\n",
        "\n",
        "        self.Q_eval.optimizer.zero_grad()\n",
        "\n",
        "        # Choose a random batch of data from the memory\n",
        "        max_mem = min(self.mem_cntr, self.mem_size)\n",
        "        batch = np.random.choice( max_mem, self.batch_size, replace=False)\n",
        "\n",
        "        state_batch = T.tensor(self.state_memory[batch]).to(self.Q_eval.device)\n",
        "        new_state_batch = T.tensor(\n",
        "                self.new_state_memory[batch]).to(self.Q_eval.device)\n",
        "        action_batch = self.action_memory[batch]\n",
        "        reward_batch = T.tensor(\n",
        "                self.reward_memory[batch]).to(self.Q_eval.device)\n",
        "        terminal_batch = T.tensor(\n",
        "                self.terminal_memory[batch]).to(self.Q_eval.device)\n",
        "\n",
        "        # Current state Q-value as predicted by the network\n",
        "        # Note to filter the matrix to only q-values corresponding to our \"action_batch\"\n",
        "        q_eval = self.Q_eval.forward(state_batch)[np.arange(self.batch_size), action_batch]\n",
        "\n",
        "        # Next state Q-value as predicted by the network for all possible next actions\n",
        "        q_next = self.Q_eval.forward(new_state_batch).max(dim=1)[0]\n",
        "\n",
        "        # The target Q-value of our current state with a discount factor of gamma\n",
        "        q_next[terminal_batch] = 0.0\n",
        "        q_target = reward_batch + self.gamma * q_next\n",
        "\n",
        "        # Make the network learn this target Q-value via a proper definitio of loss function\n",
        "        loss = self.Q_eval.loss(q_eval, q_target)\n",
        "        loss.backward()\n",
        "        self.Q_eval.optimizer.step()\n",
        "\n",
        "        self.iter_cntr += 1\n",
        "\n",
        "        # Reduce the epsilon by its decay factor it possible\n",
        "        self.epsilon = max(self.eps_min, self.epsilon - self.eps_dec)"
      ]
    },
    {
      "cell_type": "markdown",
      "id": "773635ba-85f4-4937-8e1a-7e54bdbb2444",
      "metadata": {
        "id": "773635ba-85f4-4937-8e1a-7e54bdbb2444"
      },
      "source": [
        "## Working with the Maze environment"
      ]
    },
    {
      "cell_type": "code",
      "execution_count": 29,
      "id": "b2592342-df23-49be-9fee-c5ac5a1fbd56",
      "metadata": {
        "id": "b2592342-df23-49be-9fee-c5ac5a1fbd56",
        "colab": {
          "base_uri": "https://localhost:8080/"
        },
        "outputId": "4cd0bee9-f51d-4422-ac77-51f5b24438da"
      },
      "outputs": [
        {
          "output_type": "stream",
          "name": "stdout",
          "text": [
            "episode  0 score 0.00 average score 0.00 epsilon 0.51\n",
            "episode  1 score 912.00 average score 456.00 epsilon 0.12\n",
            "episode  2 score 0.00 average score 304.00 epsilon 0.01\n",
            "episode  3 score 0.00 average score 228.00 epsilon 0.01\n",
            "episode  4 score 0.00 average score 182.40 epsilon 0.01\n",
            "episode  5 score 0.00 average score 152.00 epsilon 0.01\n",
            "episode  6 score 0.00 average score 130.29 epsilon 0.01\n",
            "episode  7 score 5212.00 average score 765.50 epsilon 0.01\n",
            "episode  8 score 2497.00 average score 957.89 epsilon 0.01\n",
            "episode  9 score 2393.00 average score 1101.40 epsilon 0.01\n",
            "episode  10 score 0.00 average score 1001.27 epsilon 0.01\n",
            "episode  11 score 14045.00 average score 2088.25 epsilon 0.01\n",
            "episode  12 score 6013.00 average score 2390.15 epsilon 0.01\n",
            "episode  13 score 5587.00 average score 2618.50 epsilon 0.01\n",
            "episode  14 score 392.00 average score 2470.07 epsilon 0.01\n",
            "episode  15 score 3906.00 average score 2559.81 epsilon 0.01\n",
            "episode  16 score 1202.00 average score 2479.94 epsilon 0.01\n",
            "episode  17 score 4529.00 average score 2593.78 epsilon 0.01\n",
            "episode  18 score 4706.00 average score 2704.95 epsilon 0.01\n",
            "episode  19 score 1893.00 average score 2664.35 epsilon 0.01\n",
            "episode  20 score 2449.00 average score 2654.10 epsilon 0.01\n",
            "episode  21 score 2246.00 average score 2635.55 epsilon 0.01\n",
            "episode  22 score 4641.00 average score 2722.74 epsilon 0.01\n",
            "episode  23 score 1442.00 average score 2669.38 epsilon 0.01\n",
            "episode  24 score 5082.00 average score 2765.88 epsilon 0.01\n",
            "episode  25 score 1958.00 average score 2734.81 epsilon 0.01\n",
            "episode  26 score 6863.00 average score 2887.70 epsilon 0.01\n",
            "episode  27 score 2260.00 average score 2865.29 epsilon 0.01\n",
            "episode  28 score 1318.00 average score 2811.93 epsilon 0.01\n",
            "episode  29 score 354.00 average score 2730.00 epsilon 0.01\n",
            "episode  30 score 4068.00 average score 2773.16 epsilon 0.01\n",
            "episode  31 score 2128.00 average score 2753.00 epsilon 0.01\n",
            "episode  32 score 2478.00 average score 2744.67 epsilon 0.01\n",
            "episode  33 score 7144.00 average score 2874.06 epsilon 0.01\n",
            "episode  34 score 649.00 average score 2810.49 epsilon 0.01\n",
            "episode  35 score 5161.00 average score 2875.78 epsilon 0.01\n",
            "episode  36 score 3255.00 average score 2886.03 epsilon 0.01\n",
            "episode  37 score 4202.00 average score 2920.66 epsilon 0.01\n",
            "episode  38 score 2677.00 average score 2914.41 epsilon 0.01\n",
            "episode  39 score 9142.00 average score 3070.10 epsilon 0.01\n",
            "episode  40 score 2572.00 average score 3057.95 epsilon 0.01\n",
            "episode  41 score 2494.00 average score 3044.52 epsilon 0.01\n",
            "episode  42 score 14279.00 average score 3305.79 epsilon 0.01\n",
            "episode  43 score 1776.00 average score 3271.02 epsilon 0.01\n",
            "episode  44 score 876.00 average score 3217.80 epsilon 0.01\n",
            "episode  45 score 172.00 average score 3151.59 epsilon 0.01\n",
            "episode  46 score 1558.00 average score 3117.68 epsilon 0.01\n",
            "episode  47 score 5278.00 average score 3162.69 epsilon 0.01\n",
            "episode  48 score 6784.00 average score 3236.59 epsilon 0.01\n",
            "episode  49 score 6968.00 average score 3311.22 epsilon 0.01\n"
          ]
        }
      ],
      "source": [
        "import sys\n",
        "sys.path.append(\"/content/drive/MyDrive/Courses/Neuroscience Final Project\")\n",
        "from maze import MazeEnvironment\n",
        "#import maze\n",
        "import warnings\n",
        "warnings.filterwarnings('ignore')\n",
        "\n",
        "# Create a maze environment\n",
        "# You can create a new one or use the files stored in directory mazes to load a maze\n",
        "env = MazeEnvironment(50, \"/content/drive/MyDrive/Courses/Neuroscience Final Project/mazes/maze1.npy\")\n",
        "\n",
        "agent = Agent(gamma=0.99, epsilon=1, batch_size=15, n_actions=4, eps_end=0.01, input_dims=[2], lr=0.01)\n",
        "scores = []\n",
        "n_games = 50\n",
        "\n",
        "for i in range(n_games):\n",
        "    score = 0\n",
        "    done = False\n",
        "    observation = env.reset()\n",
        "    counter = 0\n",
        "    while not done:\n",
        "        counter += 1\n",
        "        # If performed 1000 moves and didn't finish the maze, reset the environment\n",
        "        if (counter == 1000):\n",
        "            counter = 0\n",
        "            score = 0\n",
        "            observation = env.reset()\n",
        "            break\n",
        "\n",
        "        # Make the agent choose an action\n",
        "        action = agent.choose_action(observation)\n",
        "\n",
        "        # Retrieve the reward and next_state from the envirinment\n",
        "        observation_, reward, done = env.step(action)\n",
        "\n",
        "        score += reward\n",
        "\n",
        "        # Store the current episode in the memory\n",
        "        agent.store_transition(observation, action, reward, observation_, done)\n",
        "\n",
        "        # Learn the current episode\n",
        "        agent.learn()\n",
        "\n",
        "        # Change the next state to the current state\n",
        "        observation = observation_\n",
        "\n",
        "    scores.append(score)\n",
        "\n",
        "    avg_score = np.mean(scores[-100:])\n",
        "\n",
        "    print('episode ', i, 'score %.2f' % score, 'average score %.2f' % avg_score, 'epsilon %.2f' % agent.epsilon)"
      ]
    },
    {
      "cell_type": "code",
      "source": [
        "import matplotlib.pyplot as plt\n",
        "\n",
        "# Maximum score\n",
        "print(f\"score max: {np.max(scores)}\")\n",
        "\n",
        "plt.plot([i+1 for i in range(n_games)], scores)\n",
        "plt.xlabel('Episode')\n",
        "plt.ylabel('Score')\n",
        "plt.title('Score progression over episodes')\n",
        "plt.show()\n",
        "\n"
      ],
      "metadata": {
        "id": "6cj9Sjz-7roh",
        "colab": {
          "base_uri": "https://localhost:8080/",
          "height": 489
        },
        "outputId": "ca1ee1d6-7546-467c-a191-99e563fcf0f7"
      },
      "id": "6cj9Sjz-7roh",
      "execution_count": 34,
      "outputs": [
        {
          "output_type": "stream",
          "name": "stdout",
          "text": [
            "score max: 14279.0\n"
          ]
        },
        {
          "output_type": "display_data",
          "data": {
            "text/plain": [
              "<Figure size 640x480 with 1 Axes>"
            ],
            "image/png": "[encoded data removed]"
          },
          "metadata": {}
        }
      ]
    },
    {
      "cell_type": "code",
      "source": [
        "import matplotlib.pyplot as plt\n",
        "\n",
        "plt.imshow(env.maze)\n",
        "print(env.maze)\n",
        "print(np.trace(env.maze))"
      ],
      "metadata": {
        "colab": {
          "base_uri": "https://localhost:8080/",
          "height": 571
        },
        "id": "2m9V3PpwrzLh",
        "outputId": "372ce0d4-05a1-4247-82e2-b076c32b5d75"
      },
      "id": "2m9V3PpwrzLh",
      "execution_count": 33,
      "outputs": [
        {
          "output_type": "stream",
          "name": "stdout",
          "text": [
            "[[ 7.  2.  8. ... -2. -5.  8.]\n",
            " [-3. 41. -6. ...  3.  7. -8.]\n",
            " [ 0. -7. 43. ... -8. -2. -8.]\n",
            " ...\n",
            " [-2. -8.  6. ... 32.  8.  3.]\n",
            " [ 0. -2.  2. ... -6. 45. -2.]\n",
            " [ 2.  3. -8. ...  0. -8. 95.]]\n",
            "2017.0\n"
          ]
        },
        {
          "output_type": "display_data",
          "data": {
            "text/plain": [
              "<Figure size 640x480 with 1 Axes>"
            ],
            "image/png": "[encoded data removed]"
          },
          "metadata": {}
        }
      ]
    },
    {
      "cell_type": "markdown",
      "id": "c52ae54d-3c4d-4d3d-82de-6d9a7ec5efff",
      "metadata": {
        "id": "c52ae54d-3c4d-4d3d-82de-6d9a7ec5efff"
      },
      "source": [
        "## Report"
      ]
    },
    {
      "cell_type": "markdown",
      "id": "c970a058-17f5-470f-b402-1e4cfc59c32b",
      "metadata": {
        "id": "c970a058-17f5-470f-b402-1e4cfc59c32b"
      },
      "source": [
        "Try to manipulate constants such as batch_size, epsilon, gamma, .... Try to achieve the maximum score.\n",
        "\n",
        "Grading will not be based on the best scores. However, higher scores can bring bonus grade!\n",
        "\n",
        "Plot the incrementation of your score through n games and try to justify the patterns.\n",
        "\n",
        "As we can see, score per episode is increasing on average and has a upward trend meaning the agent is learning better policies on average. However, there are some fluctuations in the scores. These fluctuations are do to the stochastic policy and huge changes in the policy network due to the gradient descent algoirthm. This can be solved by using proximal policy optimization which clips the policy differences and limits policy updates which results in stable learning."
      ]
    },
    {
      "cell_type": "markdown",
      "id": "89a409d0-1904-4e1f-ad7c-f6bb931d7caa",
      "metadata": {
        "id": "89a409d0-1904-4e1f-ad7c-f6bb931d7caa"
      },
      "source": [
        "## (Bonus) Target Q Network"
      ]
    },
    {
      "cell_type": "markdown",
      "id": "120c2667-b131-465e-94af-e2e6125ead2c",
      "metadata": {
        "id": "120c2667-b131-465e-94af-e2e6125ead2c"
      },
      "source": [
        "Instead of calculating the target q-value using the formula presented, you can use anonther Deep Neural Network to predict the target Q-values via regression!\n",
        "\n",
        "Implementing the target Q network alonside the eval Q network can lead to more steady behavior of the final score."
      ]
    }
  ],
  "metadata": {
    "kernelspec": {
      "display_name": "Python 3",
      "name": "python3"
    },
    "language_info": {
      "codemirror_mode": {
        "name": "ipython",
        "version": 3
      },
      "file_extension": ".py",
      "mimetype": "text/x-python",
      "name": "python",
      "nbconvert_exporter": "python",
      "pygments_lexer": "ipython3",
      "version": "3.9.13"
    },
    "colab": {
      "provenance": [],
      "gpuType": "T4"
    },
    "accelerator": "GPU"
  },
  "nbformat": 4,
  "nbformat_minor": 5
}
